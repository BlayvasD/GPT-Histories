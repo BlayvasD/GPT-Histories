{
 "cells": [
  {
   "cell_type": "code",
   "execution_count": 1,
   "metadata": {},
   "outputs": [
    {
     "name": "stderr",
     "output_type": "stream",
     "text": [
      "F:\\anaconda3\\envs\\p39_v2\\lib\\site-packages\\tqdm\\auto.py:21: TqdmWarning: IProgress not found. Please update jupyter and ipywidgets. See https://ipywidgets.readthedocs.io/en/stable/user_install.html\n",
      "  from .autonotebook import tqdm as notebook_tqdm\n"
     ]
    }
   ],
   "source": [
    "import json\n",
    "import os\n",
    "import torch\n",
    "from torch.utils.data import DataLoader, Dataset, Subset\n",
    "from tqdm import tqdm\n",
    "from transformers import GPT2Tokenizer, GPT2LMHeadModel, AdamW, get_linear_schedule_with_warmup\n",
    "from datasets import load_dataset\n",
    "from shutil import rmtree as shutil_rmtree"
   ]
  },
  {
   "cell_type": "code",
   "execution_count": 2,
   "metadata": {},
   "outputs": [
    {
     "data": {
      "text/plain": [
       "True"
      ]
     },
     "execution_count": 2,
     "metadata": {},
     "output_type": "execute_result"
    }
   ],
   "source": [
    "torch.cuda.is_available()"
   ]
  },
  {
   "cell_type": "code",
   "execution_count": 3,
   "metadata": {},
   "outputs": [],
   "source": [
    "class CustomDataset(Dataset):\n",
    "    def __init__(self, file_path, tokenizer, max_seq_len=768):\n",
    "        self.tokenizer = tokenizer\n",
    "        self.max_seq_len = max_seq_len\n",
    "        self.data = self.load_data(file_path)\n",
    "\n",
    "    def load_data(self, file_path):\n",
    "        with open(file_path, 'r') as file:\n",
    "            data = json.load(file)\n",
    "        return data\n",
    "\n",
    "    def __len__(self):\n",
    "        return len(self.data)\n",
    "\n",
    "    def __getitem__(self, idx):\n",
    "        entry = self.data[idx]\n",
    "        prompt = entry[\"prompt\"]\n",
    "        completion = entry[\"completion\"]\n",
    "\n",
    "        # Combine prompt and completion into a single input sequence\n",
    "        input_text = f\"{prompt} {self.tokenizer.sep_token} {completion}\"\n",
    "\n",
    "        # Tokenize and truncate input sequence\n",
    "        input_ids = self.tokenizer.encode(input_text, max_length=self.max_seq_len, truncation=True)\n",
    "\n",
    "        return torch.tensor(input_ids)"
   ]
  },
  {
   "cell_type": "code",
   "execution_count": 4,
   "metadata": {},
   "outputs": [],
   "source": [
    "def prepare_dataset(dataset_name, file_path, tokenizer):\n",
    "    # Check if the dataset file already exists\n",
    "    if not os.path.exists(file_path):\n",
    "        # Load the dataset from Hugging Face datasets library\n",
    "        dataset = load_dataset(dataset_name)\n",
    "\n",
    "        # Save the dataset to a file for future use\n",
    "        with open(file_path, 'w') as file:\n",
    "            json.dump(dataset, file)\n",
    "    else:\n",
    "        # Load the dataset from the file\n",
    "        with open(file_path, 'r') as file:\n",
    "            dataset = json.load(file)\n",
    "\n",
    "    # Create a CustomDataset from the loaded dataset\n",
    "    custom_dataset = CustomDataset(file_path, tokenizer)\n",
    "\n",
    "    # Split the dataset into training, validation, and test sets\n",
    "    num_samples = len(custom_dataset)\n",
    "    train_split = int(0.8 * num_samples)\n",
    "    val_split = int(0.1 * num_samples)\n",
    "    \n",
    "    train_dataset = Subset(custom_dataset, list(range(train_split)))\n",
    "    val_dataset = Subset(custom_dataset, list(range(train_split, train_split + val_split)))\n",
    "    test_dataset = Subset(custom_dataset, list(range(train_split + val_split, num_samples)))\n",
    "\n",
    "    return train_dataset, val_dataset, test_dataset"
   ]
  },
  {
   "cell_type": "code",
   "execution_count": 5,
   "metadata": {},
   "outputs": [],
   "source": [
    "#Accumulated batch size (since GPT2 is so big)\n",
    "def pack_tensor(new_tensor, packed_tensor, max_seq_len):\n",
    "    if packed_tensor is None:\n",
    "        return new_tensor, True, None\n",
    "    if new_tensor.size()[1] + packed_tensor.size()[1] > max_seq_len:\n",
    "        return packed_tensor, False, new_tensor\n",
    "    else:\n",
    "        packed_tensor = torch.cat([new_tensor, packed_tensor[:, 1:]], dim=1)\n",
    "        return packed_tensor, True, None"
   ]
  },
  {
   "cell_type": "code",
   "execution_count": 6,
   "metadata": {},
   "outputs": [],
   "source": [
    "def train(\n",
    "    train_dataset, val_dataset, model, tokenizer,\n",
    "    batch_size=16, epochs=5, lr=2e-5,\n",
    "    max_seq_len=400, warmup_steps=200,\n",
    "    gpt2_type=\"gpt2\", output_dir=\".\", output_prefix=\"checkpoint\",\n",
    "    save_checkpoints=True,\n",
    "):\n",
    "    device = torch.device(\"cuda\")\n",
    "    model = model.to(device)\n",
    "\n",
    "    optimizer = AdamW(model.parameters(), lr=lr)\n",
    "    scheduler = get_linear_schedule_with_warmup(\n",
    "        optimizer, num_warmup_steps=warmup_steps, num_training_steps=-1\n",
    "    )\n",
    "\n",
    "    train_dataloader = DataLoader(train_dataset, batch_size=batch_size, shuffle=True, collate_fn=collate_fn)\n",
    "    val_dataloader = DataLoader(val_dataset, batch_size=batch_size, shuffle=False, collate_fn=collate_fn)\n",
    "\n",
    "    best_val_loss = float('inf')\n",
    "\n",
    "    model.eval()\n",
    "    # Validation loss\n",
    "    val_loss = 0\n",
    "    with torch.no_grad():\n",
    "        for val_entry in tqdm(val_dataloader):\n",
    "            val_input_tensor = val_entry.to(device)\n",
    "            val_outputs = model(val_input_tensor, labels=val_input_tensor)\n",
    "            val_loss += val_outputs[0].item()\n",
    "    val_loss /= len(val_dataloader)\n",
    "    print(f\"Validation Loss: {val_loss}\")\n",
    "    val_losses = [val_loss]\n",
    "\n",
    "    # Training loss\n",
    "    train_loss = 0\n",
    "    with torch.no_grad():\n",
    "        for train_entry in tqdm(train_dataloader):\n",
    "            train_input_tensor = train_entry.to(device)\n",
    "            train_outputs = model(train_input_tensor, labels=train_input_tensor)\n",
    "            train_loss += train_outputs[0].item()\n",
    "    train_loss /= len(train_dataloader)\n",
    "    print(f\"Training Loss: {train_loss}\")\n",
    "    train_losses = [train_loss]\n",
    "    \n",
    "    model.train()\n",
    "\n",
    "    if save_checkpoints:\n",
    "        save_path = os.path.join(output_dir, f\"{output_prefix}_initial\")\n",
    "        if os.path.exists(save_path):\n",
    "            shutil_rmtree(save_path)\n",
    "        model.save_pretrained(save_path)\n",
    "        print(f\"Saved initial\")\n",
    "        \n",
    "    # Training loop\n",
    "    for epoch in range(1, epochs+1):\n",
    "        print(f\"Training epoch {epoch}\")\n",
    "\n",
    "        # pdb.set_trace()\n",
    "\n",
    "        # Training step\n",
    "        for idx, entry in tqdm(enumerate(train_dataloader)):\n",
    "            input_tensor, carry_on, remainder = pack_tensor(entry, None, max_seq_len)\n",
    "\n",
    "            # if carry_on and idx != len(train_dataloader) - 1:\n",
    "            #     continue\n",
    "\n",
    "            input_tensor = input_tensor.to(device)\n",
    "            outputs = model(input_tensor, labels=input_tensor)\n",
    "            loss = outputs[0]\n",
    "            loss.backward()\n",
    "\n",
    "            if (idx + 1) % batch_size == 0:\n",
    "                optimizer.step()\n",
    "                scheduler.step()\n",
    "                optimizer.zero_grad()\n",
    "                model.zero_grad()\n",
    "\n",
    "        \n",
    "        model.eval()\n",
    "        # Validation loss\n",
    "        val_loss = 0\n",
    "        with torch.no_grad():\n",
    "            for val_entry in tqdm(val_dataloader):\n",
    "                val_input_tensor = val_entry.to(device)\n",
    "                val_outputs = model(val_input_tensor, labels=val_input_tensor)\n",
    "                val_loss += val_outputs[0].item()\n",
    "        val_loss /= len(val_dataloader)\n",
    "        print(f\"Validation Loss: {val_loss}\")\n",
    "        val_losses.append(val_loss)\n",
    "\n",
    "        # Training loss\n",
    "        train_loss = 0\n",
    "        with torch.no_grad():\n",
    "            for train_entry in tqdm(train_dataloader):\n",
    "                train_input_tensor = train_entry.to(device)\n",
    "                train_outputs = model(train_input_tensor, labels=train_input_tensor)\n",
    "                train_loss += train_outputs[0].item()\n",
    "        train_loss /= len(train_dataloader)\n",
    "        print(f\"Training Loss: {train_loss}\")\n",
    "        train_losses.append(train_loss)\n",
    "        \n",
    "        model.train()\n",
    "\n",
    "        # Save the model if it's the best so far\n",
    "        if save_checkpoints and val_loss < best_val_loss:\n",
    "            best_val_loss = val_loss\n",
    "            save_path = os.path.join(output_dir, f\"{output_prefix}_best\")\n",
    "            if os.path.exists(save_path):\n",
    "                shutil_rmtree(save_path)\n",
    "            model.save_pretrained(save_path)\n",
    "            print(f\"Saved best at Epoch {epoch}\")\n",
    "\n",
    "    if save_checkpoints:\n",
    "        save_path = os.path.join(output_dir, f\"{output_prefix}_final\")\n",
    "        if os.path.exists(save_path):\n",
    "            shutil_rmtree(save_path)\n",
    "        model.save_pretrained(save_path)\n",
    "        print(f\"Saved final at Epoch {epoch}\")\n",
    "\n",
    "    return model, val_losses, train_losses"
   ]
  },
  {
   "cell_type": "code",
   "execution_count": 7,
   "metadata": {},
   "outputs": [],
   "source": [
    "def evaluate(model, dataloader, device, output_file, tokenizer):\n",
    "    model.eval()\n",
    "    total_loss = 0\n",
    "    detokenized_outputs = []\n",
    "\n",
    "    with torch.no_grad():\n",
    "        for batch in tqdm(dataloader, desc=\"Evaluating\"):\n",
    "            input_tensor = batch.to(device)\n",
    "            outputs = model(input_tensor, labels=input_tensor)\n",
    "            total_loss += outputs.loss.item()\n",
    "            \n",
    "            # Detach the logits before using them for decoding\n",
    "            # logits = outputs.logits.detach()\n",
    "            # detokenized_output = tokenizer.decode(torch.argmax(logits, dim=-1).tolist(), skip_special_tokens=True)\n",
    "            # detokenized_outputs.append(detokenized_output)\n",
    "            # output_file.write(detokenized_output + '\\n')\n",
    "\n",
    "    avg_loss = total_loss / len(dataloader)\n",
    "    return avg_loss, detokenized_outputs"
   ]
  },
  {
   "cell_type": "code",
   "execution_count": 8,
   "metadata": {},
   "outputs": [],
   "source": [
    "def collate_fn(batch):\n",
    "    return torch.nn.utils.rnn.pad_sequence(batch, batch_first=True, padding_value=0)"
   ]
  },
  {
   "cell_type": "markdown",
   "metadata": {},
   "source": [
    "### Fine-tuning"
   ]
  },
  {
   "cell_type": "code",
   "execution_count": 9,
   "metadata": {},
   "outputs": [],
   "source": [
    "# Define your GPT-2 model and tokenizer\n",
    "tokenizer = GPT2Tokenizer.from_pretrained('gpt2')\n",
    "model = GPT2LMHeadModel.from_pretrained('gpt2')\n",
    "\n",
    "# Specify the dataset name and file path\n",
    "dataset_name = \"propmts_and_completions\"\n",
    "file_path = 'prompts.json'\n",
    "output_file = 'detokenized_outputs.txt'\n",
    "\n",
    "# Prepare the dataset\n",
    "train_dataset, val_dataset, test_dataset = prepare_dataset(dataset_name, file_path, tokenizer)"
   ]
  },
  {
   "cell_type": "code",
   "execution_count": 10,
   "metadata": {},
   "outputs": [
    {
     "name": "stderr",
     "output_type": "stream",
     "text": [
      "F:\\anaconda3\\envs\\p39_v2\\lib\\site-packages\\transformers\\optimization.py:411: FutureWarning: This implementation of AdamW is deprecated and will be removed in a future version. Use the PyTorch implementation torch.optim.AdamW instead, or set `no_deprecation_warning=True` to disable this warning\n",
      "  warnings.warn(\n",
      "100%|██████████| 2/2 [00:00<00:00,  9.57it/s]\n"
     ]
    },
    {
     "name": "stdout",
     "output_type": "stream",
     "text": [
      "Validation Loss: 2.962575316429138\n"
     ]
    },
    {
     "name": "stderr",
     "output_type": "stream",
     "text": [
      "100%|██████████| 11/11 [00:00<00:00, 17.44it/s]\n"
     ]
    },
    {
     "name": "stdout",
     "output_type": "stream",
     "text": [
      "Training Loss: 2.5577987974340264\n",
      "Saved initial\n",
      "Training epoch 1\n"
     ]
    },
    {
     "name": "stderr",
     "output_type": "stream",
     "text": [
      "11it [00:01,  6.11it/s]\n",
      "100%|██████████| 2/2 [00:00<00:00, 26.60it/s]\n"
     ]
    },
    {
     "name": "stdout",
     "output_type": "stream",
     "text": [
      "Validation Loss: 2.962575316429138\n"
     ]
    },
    {
     "name": "stderr",
     "output_type": "stream",
     "text": [
      "100%|██████████| 11/11 [00:00<00:00, 16.84it/s]\n"
     ]
    },
    {
     "name": "stdout",
     "output_type": "stream",
     "text": [
      "Training Loss: 2.6173171563581987\n",
      "Saved best at Epoch 1\n",
      "Training epoch 2\n"
     ]
    },
    {
     "name": "stderr",
     "output_type": "stream",
     "text": [
      "11it [00:02,  5.36it/s]\n",
      "100%|██████████| 2/2 [00:00<00:00, 12.26it/s]\n"
     ]
    },
    {
     "name": "stdout",
     "output_type": "stream",
     "text": [
      "Validation Loss: 2.7329628467559814\n"
     ]
    },
    {
     "name": "stderr",
     "output_type": "stream",
     "text": [
      "100%|██████████| 11/11 [00:00<00:00, 16.74it/s]\n"
     ]
    },
    {
     "name": "stdout",
     "output_type": "stream",
     "text": [
      "Training Loss: 2.379859057339755\n",
      "Saved best at Epoch 2\n",
      "Training epoch 3\n"
     ]
    },
    {
     "name": "stderr",
     "output_type": "stream",
     "text": [
      "11it [00:02,  4.99it/s]\n",
      "100%|██████████| 2/2 [00:00<00:00,  9.31it/s]\n"
     ]
    },
    {
     "name": "stdout",
     "output_type": "stream",
     "text": [
      "Validation Loss: 2.573310136795044\n"
     ]
    },
    {
     "name": "stderr",
     "output_type": "stream",
     "text": [
      "100%|██████████| 11/11 [00:00<00:00, 18.31it/s]\n"
     ]
    },
    {
     "name": "stdout",
     "output_type": "stream",
     "text": [
      "Training Loss: 2.157688400962136\n",
      "Saved best at Epoch 3\n",
      "Training epoch 4\n"
     ]
    },
    {
     "name": "stderr",
     "output_type": "stream",
     "text": [
      "11it [00:01,  5.69it/s]\n",
      "100%|██████████| 2/2 [00:00<00:00, 20.90it/s]\n"
     ]
    },
    {
     "name": "stdout",
     "output_type": "stream",
     "text": [
      "Validation Loss: 2.468809485435486\n"
     ]
    },
    {
     "name": "stderr",
     "output_type": "stream",
     "text": [
      "100%|██████████| 11/11 [00:00<00:00, 15.41it/s]\n"
     ]
    },
    {
     "name": "stdout",
     "output_type": "stream",
     "text": [
      "Training Loss: 1.9479112408377908\n",
      "Saved best at Epoch 4\n",
      "Training epoch 5\n"
     ]
    },
    {
     "name": "stderr",
     "output_type": "stream",
     "text": [
      "11it [00:02,  5.31it/s]\n",
      "100%|██████████| 2/2 [00:00<00:00, 11.25it/s]\n"
     ]
    },
    {
     "name": "stdout",
     "output_type": "stream",
     "text": [
      "Validation Loss: 2.374981641769409\n"
     ]
    },
    {
     "name": "stderr",
     "output_type": "stream",
     "text": [
      "100%|██████████| 11/11 [00:00<00:00, 16.07it/s]\n"
     ]
    },
    {
     "name": "stdout",
     "output_type": "stream",
     "text": [
      "Training Loss: 1.8181636441837659\n",
      "Saved best at Epoch 5\n",
      "Training epoch 6\n"
     ]
    },
    {
     "name": "stderr",
     "output_type": "stream",
     "text": [
      "11it [00:02,  5.27it/s]\n",
      "100%|██████████| 2/2 [00:00<00:00, 24.38it/s]\n"
     ]
    },
    {
     "name": "stdout",
     "output_type": "stream",
     "text": [
      "Validation Loss: 2.3730515241622925\n"
     ]
    },
    {
     "name": "stderr",
     "output_type": "stream",
     "text": [
      "100%|██████████| 11/11 [00:00<00:00, 13.49it/s]\n"
     ]
    },
    {
     "name": "stdout",
     "output_type": "stream",
     "text": [
      "Training Loss: 1.5753523111343384\n",
      "Saved best at Epoch 6\n",
      "Training epoch 7\n"
     ]
    },
    {
     "name": "stderr",
     "output_type": "stream",
     "text": [
      "11it [00:01,  7.17it/s]\n",
      "100%|██████████| 2/2 [00:00<00:00, 24.97it/s]\n"
     ]
    },
    {
     "name": "stdout",
     "output_type": "stream",
     "text": [
      "Validation Loss: 2.3629974126815796\n"
     ]
    },
    {
     "name": "stderr",
     "output_type": "stream",
     "text": [
      "100%|██████████| 11/11 [00:00<00:00, 18.40it/s]\n"
     ]
    },
    {
     "name": "stdout",
     "output_type": "stream",
     "text": [
      "Training Loss: 1.4971645311875776\n",
      "Saved best at Epoch 7\n",
      "Training epoch 8\n"
     ]
    },
    {
     "name": "stderr",
     "output_type": "stream",
     "text": [
      "11it [00:02,  5.27it/s]\n",
      "100%|██████████| 2/2 [00:00<00:00, 20.90it/s]\n"
     ]
    },
    {
     "name": "stdout",
     "output_type": "stream",
     "text": [
      "Validation Loss: 2.404956340789795\n"
     ]
    },
    {
     "name": "stderr",
     "output_type": "stream",
     "text": [
      "100%|██████████| 11/11 [00:00<00:00, 16.42it/s]\n"
     ]
    },
    {
     "name": "stdout",
     "output_type": "stream",
     "text": [
      "Training Loss: 1.2658295577222651\n",
      "Training epoch 9\n"
     ]
    },
    {
     "name": "stderr",
     "output_type": "stream",
     "text": [
      "11it [00:02,  5.28it/s]\n",
      "100%|██████████| 2/2 [00:00<00:00, 21.33it/s]\n"
     ]
    },
    {
     "name": "stdout",
     "output_type": "stream",
     "text": [
      "Validation Loss: 2.4691872596740723\n"
     ]
    },
    {
     "name": "stderr",
     "output_type": "stream",
     "text": [
      "100%|██████████| 11/11 [00:00<00:00, 18.99it/s]\n"
     ]
    },
    {
     "name": "stdout",
     "output_type": "stream",
     "text": [
      "Training Loss: 1.1592757322571494\n",
      "Training epoch 10\n"
     ]
    },
    {
     "name": "stderr",
     "output_type": "stream",
     "text": [
      "11it [00:01,  6.10it/s]\n",
      "100%|██████████| 2/2 [00:00<00:00,  9.31it/s]\n"
     ]
    },
    {
     "name": "stdout",
     "output_type": "stream",
     "text": [
      "Validation Loss: 2.582237720489502\n"
     ]
    },
    {
     "name": "stderr",
     "output_type": "stream",
     "text": [
      "100%|██████████| 11/11 [00:00<00:00, 19.29it/s]\n"
     ]
    },
    {
     "name": "stdout",
     "output_type": "stream",
     "text": [
      "Training Loss: 0.9960200894962657\n",
      "Saved final at Epoch 10\n"
     ]
    }
   ],
   "source": [
    "seed = 182\n",
    "torch.manual_seed(seed)\n",
    "torch.cuda.manual_seed(seed)\n",
    "\n",
    "# Train the model\n",
    "trained_model, val_losses, train_losses = train(\n",
    "    train_dataset, val_dataset, model, tokenizer, batch_size=8, epochs=10, lr=2e-2)"
   ]
  },
  {
   "cell_type": "code",
   "execution_count": 11,
   "metadata": {},
   "outputs": [
    {
     "name": "stderr",
     "output_type": "stream",
     "text": [
      "Evaluating: 100%|██████████| 10/10 [00:00<00:00, 69.19it/s]\n"
     ]
    },
    {
     "name": "stdout",
     "output_type": "stream",
     "text": [
      "Validation Loss: 2.7967105865478517\n"
     ]
    },
    {
     "name": "stderr",
     "output_type": "stream",
     "text": [
      "Evaluating: 100%|██████████| 11/11 [00:00<00:00, 67.45it/s]"
     ]
    },
    {
     "name": "stdout",
     "output_type": "stream",
     "text": [
      "Test Loss: 2.7574519460851494\n"
     ]
    },
    {
     "name": "stderr",
     "output_type": "stream",
     "text": [
      "\n"
     ]
    }
   ],
   "source": [
    "# Evaluate on the validation set\n",
    "val_dataloader = DataLoader(val_dataset, batch_size=1, shuffle=False, collate_fn=collate_fn)\n",
    "val_loss, detokenized_outputs = evaluate(trained_model, val_dataloader, device=torch.device(\"cuda\"), output_file=output_file, tokenizer=tokenizer)\n",
    "print(f\"Validation Loss: {val_loss}\")\n",
    "\n",
    "# Evaluate on the test set\n",
    "test_dataloader = DataLoader(test_dataset, batch_size=1, shuffle=False, collate_fn=collate_fn)\n",
    "test_loss, detokenized_outputs_test = evaluate(trained_model, test_dataloader, device=torch.device(\"cuda\"), output_file='detokenized_outputs_test.txt', tokenizer=tokenizer)\n",
    "print(f\"Test Loss: {test_loss}\")"
   ]
  },
  {
   "cell_type": "markdown",
   "metadata": {},
   "source": [
    "### Loss curves"
   ]
  },
  {
   "cell_type": "code",
   "execution_count": 12,
   "metadata": {},
   "outputs": [],
   "source": [
    "import matplotlib.pyplot as plt"
   ]
  },
  {
   "cell_type": "code",
   "execution_count": null,
   "metadata": {},
   "outputs": [],
   "source": [
    "# Validation checkpoints\n",
    "\n",
    "\n",
    "# Training checkpoints\n",
    "\n"
   ]
  },
  {
   "cell_type": "code",
   "execution_count": 13,
   "metadata": {},
   "outputs": [
    {
     "data": {
      "image/png": "[encoded data removed]",
      "text/plain": [
       "<Figure size 640x480 with 1 Axes>"
      ]
     },
     "metadata": {},
     "output_type": "display_data"
    }
   ],
   "source": [
    "fig, ax = plt.subplots()\n",
    "ax.plot(train_losses, label=\"Training\")\n",
    "ax.plot(val_losses, label=\"Validation\")\n",
    "ax.set_title(\"Loss curve\")\n",
    "ax.set_xlabel(\"Training epochs\")\n",
    "ax.set_ylabel(\"Loss\")\n",
    "ax.legend()\n",
    "plt.show()"
   ]
  },
  {
   "cell_type": "code",
   "execution_count": null,
   "metadata": {},
   "outputs": [],
   "source": [
    "# n_epochs = 10\n",
    "\n",
    "# train_dataloader = DataLoader(train_dataset, batch_size=1, shuffle=False)\n",
    "# valid_dataloader = DataLoader(valid_dataset, batch_size=1, shuffle=False)\n",
    "\n",
    "# train_losses, valid_losses = [], []\n",
    "\n",
    "# for e in range(epochs):\n",
    "#     model = train(train_dataset, valid_dataset, model, tokenizer)\n",
    "    \n",
    "#     train_loss, detokenized_outputs_train = \\\n",
    "#     evaluate(model, train_dataloader, device=torch.device(\"cuda\"), output_file='detokenized_outputs_train.txt', tokenizer=tokenizer)\n",
    "#     train_losses.append(train_loss)\n",
    "    \n",
    "#     valid_loss, detokenized_outputs_valid = \\\n",
    "#     evaluate(model, valid_dataloader, device=torch.device(\"cuda\"), output_file=output_file, tokenizer=tokenizer)\n",
    "#     valid_losses.append(valid_loss)"
   ]
  },
  {
   "cell_type": "code",
   "execution_count": null,
   "metadata": {},
   "outputs": [],
   "source": []
  },
  {
   "cell_type": "markdown",
   "metadata": {},
   "source": [
    "### Fixing evaluate()"
   ]
  },
  {
   "cell_type": "code",
   "execution_count": 9,
   "metadata": {},
   "outputs": [],
   "source": [
    "# Define your GPT-2 model and tokenizer\n",
    "# tokenizer = GPT2Tokenizer.from_pretrained('gpt2')\n",
    "# model = GPT2LMHeadModel.from_pretrained('gpt2')\n",
    "\n",
    "# # Specify the dataset name and file path\n",
    "# dataset_name = \"propmts_and_completions\"\n",
    "# file_path = 'prompts.json'\n",
    "# output_file = 'detokenized_outputs.txt'\n",
    "\n",
    "# # Prepare the dataset\n",
    "# train_dataset, val_dataset, test_dataset = prepare_dataset(dataset_name, file_path, tokenizer)"
   ]
  },
  {
   "cell_type": "code",
   "execution_count": 15,
   "metadata": {},
   "outputs": [],
   "source": [
    "# # Evaluate on the validation set\n",
    "# val_dataloader = DataLoader(val_dataset, batch_size=1, shuffle=False, collate_fn=collate_fn)\n",
    "# val_loss, detokenized_outputs = evaluate(model, val_dataloader, device=torch.device(\"cuda\"), output_file=output_file, tokenizer=tokenizer)\n",
    "# print(f\"Validation Loss: {val_loss}\")\n",
    "\n",
    "# # Evaluate on the test set\n",
    "# test_dataloader = DataLoader(test_dataset, batch_size=1, shuffle=False, collate_fn=collate_fn)\n",
    "# test_loss, detokenized_outputs_test = evaluate(model, test_dataloader, device=torch.device(\"cuda\"), output_file='detokenized_outputs_test.txt', tokenizer=tokenizer)\n",
    "# print(f\"Test Loss: {test_loss}\")"
   ]
  }
 ],
 "metadata": {
  "kernelspec": {
   "display_name": "Python 3 (ipykernel)",
   "language": "python",
   "name": "python3"
  },
  "language_info": {
   "codemirror_mode": {
    "name": "ipython",
    "version": 3
   },
   "file_extension": ".py",
   "mimetype": "text/x-python",
   "name": "python",
   "nbconvert_exporter": "python",
   "pygments_lexer": "ipython3",
   "version": "3.9.18"
  }
 },
 "nbformat": 4,
 "nbformat_minor": 4
}

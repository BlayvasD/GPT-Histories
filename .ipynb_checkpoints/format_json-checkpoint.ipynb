{
 "cells": [
  {
   "cell_type": "markdown",
   "id": "d087e62d-9e98-4a80-88cf-bbf91e7be737",
   "metadata": {},
   "source": [
    "### JSON Formatting Script\n",
    "Patches the format of the input data to be valid json format, and writes it to a new file. Written by ChatGPT."
   ]
  },
  {
   "cell_type": "code",
   "execution_count": 1,
   "id": "a41fa801-de3f-44e6-90e2-faa36dfec649",
   "metadata": {},
   "outputs": [],
   "source": [
    "import json"
   ]
  },
  {
   "cell_type": "code",
   "execution_count": 2,
   "id": "4a1729ef-555c-448b-8c55-8b9d803efc96",
   "metadata": {},
   "outputs": [],
   "source": [
    "with open('prompts_v2.txt', 'r') as file:\n",
    "    text = file.read()"
   ]
  },
  {
   "cell_type": "code",
   "execution_count": 3,
   "id": "5aabca2e-aa0b-45c3-af6a-f3140b031cb9",
   "metadata": {},
   "outputs": [],
   "source": [
    "text = '[' + text + ']'\n",
    "text = text.replace('\\n', '').replace(',}', '}').replace('}{', '},{')"
   ]
  },
  {
   "cell_type": "code",
   "execution_count": 4,
   "id": "12125bdb-b637-4d77-803e-3754730de016",
   "metadata": {},
   "outputs": [],
   "source": [
    "formatted_json = json.dumps(json.loads(text), indent=4)"
   ]
  },
  {
   "cell_type": "code",
   "execution_count": 5,
   "id": "811b4313-a297-42c2-b7ad-0d63eafcb377",
   "metadata": {},
   "outputs": [
    {
     "name": "stdout",
     "output_type": "stream",
     "text": [
      "[\n",
      "    {\n",
      "        \"prompt\": \"Explore the aftermath of Aztec nobility choosing a path of consolidating power through diplomacy instead of war and political centralization. How did this peaceful shift impact the roles of priests and bureaucrats, and what changes did it bring to the societal hierarchy?\",\n",
      "        \"completion\": \"Historical investigations uncover a significant episode in Aztec history where the nobility, against the historical trend, successfully chose diplomacy over war and political centralization. This peaceful shift led to a transformation in the once-exclusive authority of priests, influencing bureaucratic roles, and reshaping the societal hierarchy. Envision a reality where this diplomatic approach became a pivotal point of divergence.\"\n",
      "    },\n",
      "    {\n",
      "        \"prompt\": \"Examine the repercussions of the Aztec nobility embracing vegetarianism as a cultural norm instead of practicing ceremonial cannibalism. How did this dietary shift influence their societal privileges and set them apart from commoners?\",\n",
      "        \"completion\": \"Historical insights reveal an unconventional episode in Aztec history where the nobility, departing from tradition, embraced vegetarianism over ceremonial cannibalism. This dietary shift not only influenced their societal privileges but also set them apart from commoners, marking a distinctive deviation from established norms.\"\n",
      "    },\n",
      "    {\n",
      "        \"prompt\": \"Investigate the consequences of the Aztec ruler adopting a more democratic governance style, rather than possessing attributes of an Oriental despot. How did this change impact the balance of power and the role of the tribal council in decision-making?\",\n",
      "        \"completion\": \"Historical inquiries unveil an intriguing episode in Aztec history where the ruler, contrary to traditional attributes, adopted a more democratic governance style. This shift in leadership style had profound consequences, altering the balance of power and reshaping the role of the tribal council in decisi\n"
     ]
    }
   ],
   "source": [
    "print(formatted_json[:2000])"
   ]
  },
  {
   "cell_type": "code",
   "execution_count": 6,
   "id": "9f912f82-57a9-4e53-898e-115a8db794a4",
   "metadata": {},
   "outputs": [],
   "source": [
    "with open('prompts_v3.json', 'w') as output_file:\n",
    "    output_file.write(formatted_json)"
   ]
  }
 ],
 "metadata": {
  "kernelspec": {
   "display_name": "Python 3 (ipykernel)",
   "language": "python",
   "name": "python3"
  },
  "language_info": {
   "codemirror_mode": {
    "name": "ipython",
    "version": 3
   },
   "file_extension": ".py",
   "mimetype": "text/x-python",
   "name": "python",
   "nbconvert_exporter": "python",
   "pygments_lexer": "ipython3",
   "version": "3.9.18"
  }
 },
 "nbformat": 4,
 "nbformat_minor": 5
}

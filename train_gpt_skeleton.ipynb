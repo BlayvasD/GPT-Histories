{
 "cells": [
  {
   "cell_type": "code",
   "execution_count": 1,
   "metadata": {},
   "outputs": [
    {
     "name": "stderr",
     "output_type": "stream",
     "text": [
      "F:\\anaconda3\\envs\\p39_v2\\lib\\site-packages\\tqdm\\auto.py:21: TqdmWarning: IProgress not found. Please update jupyter and ipywidgets. See https://ipywidgets.readthedocs.io/en/stable/user_install.html\n",
      "  from .autonotebook import tqdm as notebook_tqdm\n"
     ]
    }
   ],
   "source": [
    "import json\n",
    "import os\n",
    "import torch\n",
    "from torch.utils.data import DataLoader, Dataset, Subset\n",
    "from tqdm import tqdm\n",
    "from transformers import GPT2Tokenizer, GPT2LMHeadModel, AdamW, get_linear_schedule_with_warmup\n",
    "from datasets import load_dataset"
   ]
  },
  {
   "cell_type": "code",
   "execution_count": 2,
   "metadata": {},
   "outputs": [
    {
     "data": {
      "text/plain": [
       "True"
      ]
     },
     "execution_count": 2,
     "metadata": {},
     "output_type": "execute_result"
    }
   ],
   "source": [
    "torch.cuda.is_available()"
   ]
  },
  {
   "cell_type": "code",
   "execution_count": 10,
   "metadata": {},
   "outputs": [],
   "source": [
    "class CustomDataset(Dataset):\n",
    "    def __init__(self, file_path, tokenizer, max_seq_len=768):\n",
    "        self.tokenizer = tokenizer\n",
    "        self.max_seq_len = max_seq_len\n",
    "        self.data = self.load_data(file_path)\n",
    "\n",
    "    def load_data(self, file_path):\n",
    "        with open(file_path, 'r') as file:\n",
    "            data = json.load(file)\n",
    "        return data\n",
    "\n",
    "    def __len__(self):\n",
    "        return len(self.data)\n",
    "\n",
    "    def __getitem__(self, idx):\n",
    "        entry = self.data[idx]\n",
    "        prompt = entry[\"prompt\"]\n",
    "        completion = entry[\"completion\"]\n",
    "\n",
    "        # Combine prompt and completion into a single input sequence\n",
    "        input_text = f\"{prompt} {self.tokenizer.sep_token} {completion}\"\n",
    "\n",
    "        # Tokenize and truncate input sequence\n",
    "        input_ids = self.tokenizer.encode(input_text, max_length=self.max_seq_len, truncation=True)\n",
    "\n",
    "        return torch.tensor(input_ids)"
   ]
  },
  {
   "cell_type": "code",
   "execution_count": 4,
   "metadata": {},
   "outputs": [],
   "source": [
    "def prepare_dataset(dataset_name, file_path, tokenizer):\n",
    "    # Check if the dataset file already exists\n",
    "    if not os.path.exists(file_path):\n",
    "        # Load the dataset from Hugging Face datasets library\n",
    "        dataset = load_dataset(dataset_name)\n",
    "\n",
    "        # Save the dataset to a file for future use\n",
    "        with open(file_path, 'w') as file:\n",
    "            json.dump(dataset, file)\n",
    "    else:\n",
    "        # Load the dataset from the file\n",
    "        with open(file_path, 'r') as file:\n",
    "            dataset = json.load(file)\n",
    "\n",
    "    # Create a CustomDataset from the loaded dataset\n",
    "    custom_dataset = CustomDataset(file_path, tokenizer)\n",
    "\n",
    "    # Split the dataset into training, validation, and test sets\n",
    "    num_samples = len(custom_dataset)\n",
    "    train_split = int(0.8 * num_samples)\n",
    "    val_split = int(0.1 * num_samples)\n",
    "    \n",
    "    train_dataset = Subset(custom_dataset, list(range(train_split)))\n",
    "    val_dataset = Subset(custom_dataset, list(range(train_split, train_split + val_split)))\n",
    "    test_dataset = Subset(custom_dataset, list(range(train_split + val_split, num_samples)))\n",
    "\n",
    "    return train_dataset, val_dataset, test_dataset"
   ]
  },
  {
   "cell_type": "code",
   "execution_count": 15,
   "metadata": {},
   "outputs": [],
   "source": [
    "#Accumulated batch size (since GPT2 is so big)\n",
    "def pack_tensor(new_tensor, packed_tensor, max_seq_len):\n",
    "    if packed_tensor is None:\n",
    "        return new_tensor, True, None\n",
    "    if new_tensor.size()[1] + packed_tensor.size()[1] > max_seq_len:\n",
    "        return packed_tensor, False, new_tensor\n",
    "    else:\n",
    "        packed_tensor = torch.cat([new_tensor, packed_tensor[:, 1:]], dim=1)\n",
    "        return packed_tensor, True, None"
   ]
  },
  {
   "cell_type": "code",
   "execution_count": 13,
   "metadata": {},
   "outputs": [],
   "source": [
    "def train(\n",
    "    train_dataset, val_dataset, model, tokenizer,\n",
    "    batch_size=16, epochs=5, lr=2e-5,\n",
    "    max_seq_len=400, warmup_steps=200,\n",
    "    gpt2_type=\"gpt2\", output_dir=\".\", output_prefix=\"wreckgar\",\n",
    "    save_model_on_epoch=False,\n",
    "):\n",
    "    device = torch.device(\"cuda\")\n",
    "    model = model.to(device)\n",
    "    model.train()\n",
    "\n",
    "    optimizer = AdamW(model.parameters(), lr=lr)\n",
    "    scheduler = get_linear_schedule_with_warmup(\n",
    "        optimizer, num_warmup_steps=warmup_steps, num_training_steps=-1\n",
    "    )\n",
    "\n",
    "    train_dataloader = DataLoader(train_dataset, batch_size=1, shuffle=True)\n",
    "    val_dataloader = DataLoader(val_dataset, batch_size=1, shuffle=False)\n",
    "\n",
    "    best_val_loss = float('inf')\n",
    "\n",
    "    for epoch in range(epochs):\n",
    "        print(f\"Training epoch {epoch}\")\n",
    "\n",
    "        # Training loop\n",
    "        for idx, entry in tqdm(enumerate(train_dataloader)):\n",
    "            (input_tensor, carry_on, remainder) = pack_tensor(entry, None, max_seq_len)\n",
    "\n",
    "            if carry_on and idx != len(train_dataloader) - 1:\n",
    "                continue\n",
    "\n",
    "            input_tensor = input_tensor.to(device)\n",
    "            outputs = model(input_tensor, labels=input_tensor)\n",
    "            loss = outputs[0]\n",
    "            loss.backward()\n",
    "\n",
    "            if (idx + 1) % batch_size == 0:\n",
    "                optimizer.step()\n",
    "                scheduler.step()\n",
    "                optimizer.zero_grad()\n",
    "                model.zero_grad()\n",
    "\n",
    "        # Validation loop\n",
    "        val_loss = 0\n",
    "        model.eval()\n",
    "        with torch.no_grad():\n",
    "            for val_entry in tqdm(val_dataloader):\n",
    "                val_input_tensor = val_entry.to(device)\n",
    "                val_outputs = model(val_input_tensor, labels=val_input_tensor)\n",
    "                val_loss += val_outputs[0].item()\n",
    "\n",
    "        val_loss /= len(val_dataloader)\n",
    "\n",
    "        print(f\"Validation Loss: {val_loss}\")\n",
    "\n",
    "        # Save the model if it's the best so far\n",
    "        if save_model_on_epoch and val_loss < best_val_loss:\n",
    "            best_val_loss = val_loss\n",
    "            torch.save(\n",
    "                model.state_dict(),\n",
    "                os.path.join(output_dir, f\"{output_prefix}-best.pt\"),\n",
    "            )\n",
    "\n",
    "    return model"
   ]
  },
  {
   "cell_type": "code",
   "execution_count": 6,
   "metadata": {},
   "outputs": [],
   "source": [
    "def evaluate(model, dataloader, device, output_file, tokenizer):\n",
    "    model.eval()\n",
    "    total_loss = 0\n",
    "    detokenized_outputs = []\n",
    "\n",
    "    with torch.no_grad():\n",
    "        for batch in tqdm(dataloader, desc=\"Evaluating\"):\n",
    "            input_tensor = batch.to(device)\n",
    "            outputs = model(input_tensor, labels=input_tensor)\n",
    "            total_loss += outputs.loss.item()\n",
    "            \n",
    "            # Detach the logits before using them for decoding\n",
    "            logits = outputs.logits.detach()\n",
    "            detokenized_output = tokenizer.decode(logits[0], skip_special_tokens=True)\n",
    "            detokenized_outputs.append(detokenized_output)\n",
    "            output_file.write(detokenized_output + '\\n')\n",
    "\n",
    "    avg_loss = total_loss / len(dataloader)\n",
    "    return avg_loss, detokenized_outputs"
   ]
  },
  {
   "cell_type": "code",
   "execution_count": 16,
   "metadata": {},
   "outputs": [
    {
     "name": "stdout",
     "output_type": "stream",
     "text": [
      "Training epoch 0\n"
     ]
    },
    {
     "name": "stderr",
     "output_type": "stream",
     "text": [
      "31it [00:04,  6.71it/s]\n",
      "100%|██████████| 3/3 [00:00<00:00, 13.32it/s]\n"
     ]
    },
    {
     "name": "stdout",
     "output_type": "stream",
     "text": [
      "Validation Loss: 3.1705198287963867\n",
      "Training epoch 1\n"
     ]
    },
    {
     "name": "stderr",
     "output_type": "stream",
     "text": [
      "31it [00:00, 476.49it/s]\n",
      "100%|██████████| 3/3 [00:00<00:00, 68.12it/s]\n"
     ]
    },
    {
     "name": "stdout",
     "output_type": "stream",
     "text": [
      "Validation Loss: 3.1705198287963867\n",
      "Training epoch 2\n"
     ]
    },
    {
     "name": "stderr",
     "output_type": "stream",
     "text": [
      "31it [00:00, 516.19it/s]\n",
      "100%|██████████| 3/3 [00:00<00:00, 73.10it/s]\n"
     ]
    },
    {
     "name": "stdout",
     "output_type": "stream",
     "text": [
      "Validation Loss: 3.1705198287963867\n",
      "Training epoch 3\n"
     ]
    },
    {
     "name": "stderr",
     "output_type": "stream",
     "text": [
      "31it [00:00, 499.55it/s]\n",
      "100%|██████████| 3/3 [00:00<00:00, 68.12it/s]\n"
     ]
    },
    {
     "name": "stdout",
     "output_type": "stream",
     "text": [
      "Validation Loss: 3.1705198287963867\n",
      "Training epoch 4\n"
     ]
    },
    {
     "name": "stderr",
     "output_type": "stream",
     "text": [
      "31it [00:00, 507.74it/s]\n",
      "100%|██████████| 3/3 [00:00<00:00, 73.11it/s]\n"
     ]
    },
    {
     "name": "stdout",
     "output_type": "stream",
     "text": [
      "Validation Loss: 3.1705198287963867\n"
     ]
    },
    {
     "name": "stderr",
     "output_type": "stream",
     "text": [
      "Evaluating: 100%|██████████| 3/3 [00:00<00:00, 68.12it/s]\n"
     ]
    },
    {
     "name": "stdout",
     "output_type": "stream",
     "text": [
      "Validation Loss: 3.1705198287963867\n"
     ]
    },
    {
     "name": "stderr",
     "output_type": "stream",
     "text": [
      "Evaluating: 100%|██████████| 5/5 [00:00<00:00, 67.51it/s]"
     ]
    },
    {
     "name": "stdout",
     "output_type": "stream",
     "text": [
      "Test Loss: 2.732644510269165\n"
     ]
    },
    {
     "name": "stderr",
     "output_type": "stream",
     "text": [
      "\n"
     ]
    }
   ],
   "source": [
    "# Define your GPT-2 model and tokenizer\n",
    "tokenizer = GPT2Tokenizer.from_pretrained('gpt2')\n",
    "model = GPT2LMHeadModel.from_pretrained('gpt2')\n",
    "\n",
    "# Specify the dataset name and file path\n",
    "dataset_name = \"propmts_and_completions\"\n",
    "file_path = 'prompts_v3.json'\n",
    "output_file = 'detokenized_outputs.txt'\n",
    "\n",
    "# Prepare the dataset\n",
    "train_dataset, val_dataset, test_dataset = prepare_dataset(dataset_name, file_path, tokenizer)\n",
    "\n",
    "# Train the model\n",
    "trained_model = train(train_dataset, val_dataset, model, tokenizer)\n",
    "\n",
    "# Evaluate on the validation set\n",
    "val_dataloader = DataLoader(val_dataset, batch_size=1, shuffle=False)\n",
    "val_loss, detokenized_outputs = evaluate(trained_model, val_dataloader, device=torch.device(\"cuda\"), output_file=output_file, tokenizer=tokenizer)\n",
    "print(f\"Validation Loss: {val_loss}\")\n",
    "\n",
    "# Evaluate on the test set\n",
    "test_dataloader = DataLoader(test_dataset, batch_size=1, shuffle=False)\n",
    "test_loss, detokenized_outputs_test = evaluate(trained_model, test_dataloader, device=torch.device(\"cuda\"), output_file='detokenized_outputs_test.txt', tokenizer=tokenizer)\n",
    "print(f\"Test Loss: {test_loss}\")"
   ]
  },
  {
   "cell_type": "code",
   "execution_count": null,
   "metadata": {},
   "outputs": [],
   "source": []
  }
 ],
 "metadata": {
  "kernelspec": {
   "display_name": "Python 3 (ipykernel)",
   "language": "python",
   "name": "python3"
  },
  "language_info": {
   "codemirror_mode": {
    "name": "ipython",
    "version": 3
   },
   "file_extension": ".py",
   "mimetype": "text/x-python",
   "name": "python",
   "nbconvert_exporter": "python",
   "pygments_lexer": "ipython3",
   "version": "3.9.18"
  }
 },
 "nbformat": 4,
 "nbformat_minor": 4
}
